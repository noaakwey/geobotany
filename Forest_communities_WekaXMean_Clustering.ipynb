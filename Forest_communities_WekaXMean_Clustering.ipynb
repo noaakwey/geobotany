{
  "nbformat": 4,
  "nbformat_minor": 0,
  "metadata": {
    "colab": {
      "provenance": [],
      "authorship_tag": "ABX9TyPjO1/LuQAGHor1Ob9vufpO",
      "include_colab_link": true
    },
    "kernelspec": {
      "name": "python3",
      "display_name": "Python 3"
    },
    "language_info": {
      "name": "python"
    }
  },
  "cells": [
    {
      "cell_type": "markdown",
      "metadata": {
        "id": "view-in-github",
        "colab_type": "text"
      },
      "source": [
        "<a href=\"https://colab.research.google.com/github/noaakwey/geobotany/blob/main/Forest_communities_WekaXMean_Clustering.ipynb\" target=\"_parent\"><img src=\"https://colab.research.google.com/assets/colab-badge.svg\" alt=\"Open In Colab\"/></a>"
      ]
    },
    {
      "cell_type": "code",
      "execution_count": null,
      "metadata": {
        "id": "7HaKyM5fgweB"
      },
      "outputs": [],
      "source": [
        "import ee, eemont\n",
        "# Initialize the library.\n",
        "ee.Authenticate()\n",
        "ee.Initialize()"
      ]
    },
    {
      "cell_type": "code",
      "source": [
        "#Landsat 8 and 9 preprocess and masking\n",
        "year = 2018\n",
        "roi = ee.FeatureCollection(\"projects/ee-landeco/assets/tatarstan_grid\")\n",
        "\n",
        "l8 = (ee.ImageCollection(\"LANDSAT/LC08/C02/T1_L2\")\n",
        "      .filterBounds(roi)\n",
        "      .filter(ee.Filter.calendarRange(year,year+4,'year'))\n",
        "      .filter(ee.Filter.calendarRange(4,11,'month'))\n",
        "      .preprocess()\n",
        "      .spectralIndices('vegetation')\n",
        "      )\n",
        "l9 = (ee.ImageCollection(\"LANDSAT/LC09/C02/T1_L2\")\n",
        "      .filterBounds(roi)\n",
        "      .filter(ee.Filter.calendarRange(year,year+4,'year'))\n",
        "      .filter(ee.Filter.calendarRange(4,11,'month'))\n",
        "      .preprocess()\n",
        "      .spectralIndices('vegetation')\n",
        "      )\n",
        "l89 = l8.merge(l9).sort(\"system:time_start\")\n",
        "l89_inx = l89.select(['BWDRVI', 'CIG', 'CVI', 'DSI', 'DSWI1', 'DVI', 'DVIplus', 'EVI2', 'FCVI', 'GARI', 'GBNDVI', 'GCC', 'GDVI', 'GEMI', 'GLI',\n",
        "                      'GNDVI', 'GOSAVI', 'GRNDVI', 'GRVI', 'GSAVI', 'GVMI', 'IAVI', 'IKAW', 'IPVI', 'MCARI2', 'MGRVI', 'MNDVI',\n",
        "                      'MNLI', 'MRBVI', 'MSAVI', 'MSI', 'MSR', 'MTVI2', 'NDDI', 'NDGI', 'NDII', 'NDMI', 'NDPI', 'NDVI', 'NDYI', 'NGRDI',\n",
        "                      'NIRv', 'NIRvH2', 'NLI', 'NMDI', 'NRFIg', 'NRFIr', 'NormG', 'NormNIR', 'NormR', 'OCVI', 'OSAVI', 'RCC', 'RDVI', 'RGBVI', 'RGRI',\n",
        "                      'RI', 'SARVI', 'SAVI', 'SEVI', 'SI', 'SIPI', 'SR', 'TDVI', 'TGI', 'TSAVI', 'TVI', 'TriVI', 'VARI', 'VIG', 'WDRVI', 'WDVI'])\n",
        "\n",
        "l89_select = [l89_inx.reduce(ee.Reducer.median()).multiply(100),\n",
        "              l89_inx.reduce(ee.Reducer.mean()).multiply(100),\n",
        "              l89_inx.reduce(ee.Reducer.max()).multiply(100),\n",
        "              l89_inx.reduce(ee.Reducer.stdDev()).multiply(100)]\n",
        "l89_comp = ee.Image.cat([l89_select])\n",
        "\n",
        "# Load the MASK dataset\n",
        "mask_dataset = ee.Image(\"projects/ee-landeco/assets/GLAD_RT_MASK\")\n",
        "mask = mask_dataset.eq(1)\n",
        "l89_Vi_mask = l89_comp.updateMask(mask).clip(roi).toShort()"
      ],
      "metadata": {
        "id": "v_LoKLR0hEsL"
      },
      "execution_count": null,
      "outputs": []
    },
    {
      "cell_type": "code",
      "source": [
        "# Make the training dataset.\n",
        "training = l89_Vi_mask.sample(**{\n",
        "    'region': roi.geometry(),\n",
        "    'scale': 30,\n",
        "    'numPixels': 20000,\n",
        "    'tileScale': 16\n",
        "})\n",
        "\n",
        "# Instantiate the clusterer and train it.\n",
        "clusterer = ee.Clusterer.wekaXMeans(**{\n",
        "    'minClusters': 36,\n",
        "    'maxClusters': 50,\n",
        "}).train(training)\n",
        "\n",
        "# Apply clusterer model to each row_id\n",
        "def apply_clusterer(feature):\n",
        "    row_id = feature.get('row_id')\n",
        "    roi_clip = roi.filter(ee.Filter.eq('row_id', row_id))\n",
        "    result = l89_Vi_mask.clip(roi_clip.geometry()).cluster(clusterer)\n",
        "    return result.set('row_id', row_id)\n",
        "\n",
        "result_images = roi.map(apply_clusterer)\n",
        "\n",
        "# Convert the image collection to a list of images\n",
        "result_images_list = result_images.toList(result_images.size())\n",
        "\n",
        "# Create mosaic of clustered images\n",
        "mosaic_image = ee.ImageCollection.fromImages(result_images_list).mosaic()\n",
        "\n",
        "# Define task configuration\n",
        "task_config = {\n",
        "    'image': mosaic_image.clip(roi.geometry()),\n",
        "    'folder': \"__name-Of-Folder__\",\n",
        "    'description': '__name-of-file__',\n",
        "    'fileFormat': 'GeoTIFF',\n",
        "    'crs': 'EPSG:32639', #in our case (UTM 39N)\n",
        "    'scale': 30,\n",
        "    'region': roi.geometry(),\n",
        "    'maxPixels': 1e12\n",
        "}\n",
        "\n",
        "# Export the mosaic image to Google Drive\n",
        "task = ee.batch.Export.image.toDrive(**task_config)\n",
        "task.start()"
      ],
      "metadata": {
        "id": "5VBGiWiKhQwj"
      },
      "execution_count": null,
      "outputs": []
    }
  ]
}