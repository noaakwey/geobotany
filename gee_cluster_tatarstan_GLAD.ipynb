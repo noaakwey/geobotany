{
  "cells": [
    {
      "cell_type": "markdown",
      "metadata": {
        "id": "view-in-github",
        "colab_type": "text"
      },
      "source": [
        "<a href=\"https://colab.research.google.com/github/noaakwey/geobotany/blob/main/gee_cluster_tatarstan_GLAD.ipynb\" target=\"_parent\"><img src=\"https://colab.research.google.com/assets/colab-badge.svg\" alt=\"Open In Colab\"/></a>"
      ]
    },
    {
      "cell_type": "code",
      "execution_count": null,
      "id": "initial_id",
      "metadata": {
        "ExecuteTime": {
          "end_time": "2023-08-28T19:59:52.988839Z",
          "start_time": "2023-08-28T19:58:52.707193Z"
        },
        "id": "initial_id",
        "pycharm": {
          "name": "#%%\n"
        }
      },
      "outputs": [],
      "source": [
        "import ee, eemont\n",
        "# Initialize the library.\n",
        "ee.Authenticate()\n",
        "ee.Initialize(project='ee-landeco')"
      ]
    },
    {
      "cell_type": "code",
      "execution_count": null,
      "id": "fbf23bd00dc6d3da",
      "metadata": {
        "editable": true,
        "id": "fbf23bd00dc6d3da",
        "jupyter": {
          "outputs_hidden": false
        },
        "pycharm": {
          "name": "#%%\n"
        },
        "tags": []
      },
      "outputs": [],
      "source": [
        "#L89_stat_to_Assets\n",
        "year = 2018\n",
        "roi = ee.FeatureCollection(\"projects/ee-landeco/assets/tatarstan_grid\")\n",
        "\n",
        "l8 = (ee.ImageCollection(\"LANDSAT/LC08/C02/T1_L2\")\n",
        "      .filterBounds(roi)\n",
        "      .filter(ee.Filter.calendarRange(year,year+4,'year'))\n",
        "      .filter(ee.Filter.calendarRange(4,11,'month'))\n",
        "      .preprocess()\n",
        "      .spectralIndices('vegetation')\n",
        "      )\n",
        "l9 = (ee.ImageCollection(\"LANDSAT/LC09/C02/T1_L2\")\n",
        "      .filterBounds(roi)\n",
        "      .filter(ee.Filter.calendarRange(year,year+4,'year'))\n",
        "      .filter(ee.Filter.calendarRange(4,11,'month'))\n",
        "      .preprocess()\n",
        "      .spectralIndices('vegetation')\n",
        "      )\n",
        "l89 = l8.merge(l9).sort(\"system:time_start\")\n",
        "l89_inx = l89.select(['BWDRVI', 'CIG', 'CVI', 'DSI', 'DSWI1', 'DVI', 'DVIplus', 'EVI2', 'FCVI', 'GARI', 'GBNDVI', 'GCC', 'GDVI', 'GEMI', 'GLI',\n",
        "                      'GNDVI', 'GOSAVI', 'GRNDVI', 'GRVI', 'GSAVI', 'GVMI', 'IAVI', 'IKAW', 'IPVI', 'MCARI2', 'MGRVI', 'MNDVI',\n",
        "                      'MNLI', 'MRBVI', 'MSAVI', 'MSI', 'MSR', 'MTVI2', 'NDDI', 'NDGI', 'NDII', 'NDMI', 'NDPI', 'NDVI', 'NDYI', 'NGRDI',\n",
        "                      'NIRv', 'NIRvH2', 'NLI', 'NMDI', 'NRFIg', 'NRFIr', 'NormG', 'NormNIR', 'NormR', 'OCVI', 'OSAVI', 'RCC', 'RDVI', 'RGBVI', 'RGRI',\n",
        "                      'RI', 'SARVI', 'SAVI', 'SEVI', 'SI', 'SIPI', 'SR', 'TDVI', 'TGI', 'TSAVI', 'TVI', 'TriVI', 'VARI', 'VIG', 'WDRVI', 'WDVI'])\n",
        "\n",
        "l89_select = [l89_inx.reduce(ee.Reducer.median()).multiply(100),\n",
        "              l89_inx.reduce(ee.Reducer.mean()).multiply(100),\n",
        "              l89_inx.reduce(ee.Reducer.max()).multiply(100),\n",
        "              l89_inx.reduce(ee.Reducer.stdDev()).multiply(100)]\n",
        "l89_comp = ee.Image.cat([l89_select])\n",
        "\n",
        "# Load the MASK dataset\n",
        "mask_dataset = ee.Image(\"projects/ee-landeco/assets/GLAD_RT_MASK\")\n",
        "mask = mask_dataset.eq(1)\n",
        "l89_Vi_mask = l89_comp.updateMask(mask).clip(roi).toShort()"
      ]
    },
    {
      "cell_type": "code",
      "execution_count": null,
      "id": "a2d333c8-ddae-4291-b6af-dd45e4c06d64",
      "metadata": {
        "id": "a2d333c8-ddae-4291-b6af-dd45e4c06d64"
      },
      "outputs": [],
      "source": [
        "# Загрузка обучающих данных\n",
        "training_data = ee.Image(\"projects/ee-landeco/assets/ForestMapRT_Braun-Blanquet\").select('b1')\n",
        "\n",
        "# Объединение данных\n",
        "labeled_data = l89_Vi_mask.addBands(training_data)\n",
        "\n",
        "# Создание сбалансированной выборки для обучения\n",
        "training = labeled_data.stratifiedSample(\n",
        "    numPoints=5000,  # Количество точек на класс\n",
        "    classBand='b1',  # Указываем, что классы находятся в поле 'b1'\n",
        "    region=roi,\n",
        "    tileScale=16,\n",
        "    scale=30,\n",
        "    seed=0\n",
        ")"
      ]
    },
    {
      "cell_type": "code",
      "execution_count": null,
      "id": "80e85d86-c2fa-4adc-a9fc-1ac1ffc32a19",
      "metadata": {
        "id": "80e85d86-c2fa-4adc-a9fc-1ac1ffc32a19"
      },
      "outputs": [],
      "source": [
        "# Экспорт на Google Drive\n",
        "task = ee.batch.Export.table.toDrive(**{\n",
        "    'collection': training,\n",
        "    'description': 'training',\n",
        "    'fileFormat': 'CSV',\n",
        "    'folder': 'Carbon'  # Укажите имя папки на Google Drive\n",
        "})\n",
        "task.start()"
      ]
    },
    {
      "cell_type": "code",
      "execution_count": null,
      "id": "23dbb654-be7b-4fd0-b822-ad47245d174e",
      "metadata": {
        "id": "23dbb654-be7b-4fd0-b822-ad47245d174e"
      },
      "outputs": [],
      "source": [
        "# Загрузка обучающих данных\n",
        "training_data = ee.Image(\"projects/ee-landeco/assets/ForestMapRT_Braun-Blanquet\").select('b1')\n",
        "\n",
        "# Объединение данных\n",
        "labeled_data = l89_Vi_mask.addBands(training_data)\n",
        "\n",
        "# Создание сбалансированной выборки для обучения\n",
        "training = labeled_data.stratifiedSample(\n",
        "    numPoints=500,  # Количество точек на класс\n",
        "    classBand='b1',  # Указываем, что классы находятся в поле 'b1'\n",
        "    region=roi,\n",
        "    scale=30,\n",
        "    seed=0\n",
        ")\n",
        "\n",
        "# Обучение модели\n",
        "classifier = ee.Classifier.smileRandomForest(numberOfTrees=50).train(\n",
        "    features=training,\n",
        "    classProperty='b1',\n",
        "    inputProperties=l89_Vi_mask.bandNames()\n",
        ")\n",
        "\n",
        "# Классификация\n",
        "#classified_image = l89_Vi_mask.classify(classifier)\n",
        "\n",
        "# Получение Feature Importance\n",
        "importances = classifier.explain().get('importance')\n",
        "print(importances)"
      ]
    },
    {
      "cell_type": "code",
      "execution_count": null,
      "id": "3c707fcc-d8af-43e7-a74c-bb5c7ba83d59",
      "metadata": {
        "id": "3c707fcc-d8af-43e7-a74c-bb5c7ba83d59",
        "pycharm": {
          "name": "#%%\n"
        }
      },
      "outputs": [],
      "source": [
        "# Make the training dataset.\n",
        "training = l89_Vi_mask.sample(**{\n",
        "    'region': roi.geometry(),\n",
        "    'scale': 30,\n",
        "    'numPixels': 20000,\n",
        "    'tileScale': 16\n",
        "})\n",
        "\n",
        "# Instantiate the clusterer and train it.\n",
        "clusterer = ee.Clusterer.wekaXMeans(**{\n",
        "    'minClusters': 36,\n",
        "    'maxClusters': 50,\n",
        "}).train(training)\n",
        "\n",
        "# Apply clusterer model to each row_id\n",
        "def apply_clusterer(feature):\n",
        "    row_id = feature.get('row_id')\n",
        "    roi_clip = roi.filter(ee.Filter.eq('row_id', row_id))\n",
        "    result = l89_Vi_mask.clip(roi_clip.geometry()).cluster(clusterer)\n",
        "    return result.set('row_id', row_id)\n",
        "\n",
        "result_images = roi.map(apply_clusterer)\n",
        "\n",
        "# Convert the image collection to a list of images\n",
        "result_images_list = result_images.toList(result_images.size())\n",
        "\n",
        "# Create mosaic of clustered images\n",
        "mosaic_image = ee.ImageCollection.fromImages(result_images_list).mosaic()\n",
        "\n",
        "# Define task configuration\n",
        "task_config = {\n",
        "    'image': mosaic_image.clip(roi.geometry()),\n",
        "    'folder': \"carbon\",\n",
        "    'description': 'forest_cluster_tatarstan_wekaXMeans35_all_layer_GLAD',\n",
        "    'fileFormat': 'GeoTIFF',\n",
        "    'crs': 'EPSG:32639',\n",
        "    'scale': 30,\n",
        "    'region': roi.geometry(),\n",
        "    'maxPixels': 1e12\n",
        "}\n",
        "\n",
        "# Export the mosaic image to Google Drive\n",
        "task = ee.batch.Export.image.toDrive(**task_config)\n",
        "task.start()"
      ]
    },
    {
      "cell_type": "markdown",
      "id": "4RJTj9nII0E0",
      "metadata": {
        "id": "4RJTj9nII0E0"
      },
      "source": [
        "АНАЛИЗ ПОЛУЧЕННЫХ РЕЗУЛЬТАОВ"
      ]
    },
    {
      "cell_type": "code",
      "execution_count": null,
      "id": "YDRo-Ek5AUsE",
      "metadata": {
        "id": "YDRo-Ek5AUsE"
      },
      "outputs": [],
      "source": [
        "forest_community_map = ee.Image(\"users/ortho/ForestMapRT_Braun-Blanquet\")\n",
        "points = forest_community_map.stratifiedSample(**{\n",
        "  'numPoints': 1000,\n",
        "  'classBand': 'b1',  # Change this to the actual name of your classification band\n",
        "  'region': forest_community_map.geometry(),\n",
        "  'scale': 30,\n",
        "  'geometries': True\n",
        "})\n",
        "vegetation_metrics = l89_Vi_mask.sampleRegions(**{\n",
        "  'collection': points,\n",
        "  'properties': ['class'],\n",
        "  'scale': 30\n",
        "})\n",
        "\n",
        "# Список классов\n",
        "classes = [1, 2, 3, 4, 5, 6, 7]\n",
        "\n",
        "# Список вегетационных индексов\n",
        "vegetation_indices = ['BWDRVI', 'CIG', 'CVI', 'DSI', 'DSWI1', 'DVI', 'DVIplus', 'EVI2', 'FCVI', 'GARI', 'GBNDVI', 'GCC', 'GDVI', 'GEMI', 'GLI',\n",
        "                      'GNDVI', 'GOSAVI', 'GRNDVI', 'GRVI', 'GSAVI', 'GVMI', 'IAVI', 'IKAW', 'IPVI', 'MCARI2', 'MGRVI', 'MNDVI',\n",
        "                      'MNLI', 'MRBVI', 'MSAVI', 'MSI', 'MSR', 'MTVI2', 'NDDI', 'NDGI', 'NDII', 'NDMI', 'NDPI', 'NDVI', 'NDYI', 'NGRDI',\n",
        "                      'NIRv', 'NIRvH2', 'NLI', 'NMDI', 'NRFIg', 'NRFIr', 'NormG', 'NormNIR', 'NormR', 'OCVI', 'OSAVI', 'RCC', 'RDVI', 'RGBVI', 'RGRI',\n",
        "                      'RI', 'SARVI', 'SAVI', 'SEVI', 'SI', 'SIPI', 'SR', 'TDVI', 'TGI', 'TSAVI', 'TVI', 'TriVI', 'VARI', 'VIG', 'WDRVI', 'WDVI']\n",
        "\n",
        "# Преобразование точек в растр\n",
        "points_image = points.reduceToImage(properties=['class'], reducer=ee.Reducer.first())\n",
        "\n",
        "# Расчет статистики для каждого класса и каждого вегетационного индекса\n",
        "stats = []\n",
        "for class_id in classes:\n",
        "    for index in vegetation_indices:\n",
        "        # Создание маски для текущего класса\n",
        "        class_mask = points_image.eq(class_id)\n",
        "\n",
        "        # Применение маски к изображению с вегетационными индексами\n",
        "        class_image = l89_Vi_mask.updateMask(class_mask)\n",
        "\n",
        "        # Расчет статистики для текущего индекса\n",
        "        reducers = ee.Reducer.mean().combine(reducer2=ee.Reducer.stdDev(), sharedInputs=True).combine(\n",
        "            reducer2=ee.Reducer.median(), sharedInputs=True).combine(reducer2=ee.Reducer.mode(), sharedInputs=True)\n",
        "        reduced = class_image.reduceRegion(\n",
        "            reducer=reducers,\n",
        "            geometry=roi.geometry(),\n",
        "            scale=30,\n",
        "            tileScale=16,\n",
        "            maxPixels=1e12,  # Увеличьте значение maxPixels\n",
        "            bestEffort=True  # Добавьте этот параметр для автоматического выбора масштаба\n",
        "            )\n",
        "\n",
        "        # Добавление результатов в список\n",
        "        stats.append(ee.Feature(None, reduced.set('class', class_id).set('index', index)))\n",
        "\n",
        "# Создание FeatureCollection из результатов\n",
        "stats_feature_collection = ee.FeatureCollection(stats)\n",
        "\n",
        "# Экспорт на Google Drive\n",
        "task = ee.batch.Export.table.toDrive(**{\n",
        "    'collection': stats_feature_collection,\n",
        "    'description': 'vegetation_metrics_stats',\n",
        "    'fileFormat': 'CSV',\n",
        "    'folder': 'Carbon'  # Укажите имя папки на Google Drive\n",
        "})\n",
        "task.start()"
      ]
    },
    {
      "cell_type": "code",
      "execution_count": null,
      "id": "er4TLKPbwTn6",
      "metadata": {
        "colab": {
          "base_uri": "https://localhost:8080/"
        },
        "id": "er4TLKPbwTn6",
        "outputId": "97163569-9ca3-4b3e-b038-481718e61bba"
      },
      "outputs": [
        {
          "name": "stdout",
          "output_type": "stream",
          "text": [
            "Task for class 1 started.\n",
            "Task for class 2 started.\n",
            "Task for class 3 started.\n",
            "Task for class 4 started.\n",
            "Task for class 5 started.\n",
            "Task for class 6 started.\n",
            "Task for class 7 started.\n"
          ]
        }
      ],
      "source": [
        "forest_community_map = ee.Image(\"users/ortho/ForestMapRT_Braun-Blanquet\")\n",
        "points = forest_community_map.stratifiedSample(**{\n",
        "  'numPoints': 1000,\n",
        "  'classBand': 'b1',  # Change this to the actual name of your classification band\n",
        "  'region': forest_community_map.geometry(),\n",
        "  'scale': 30,\n",
        "  'geometries': True\n",
        "})\n",
        "# Список классов\n",
        "classes = [1, 2, 3, 4, 5, 6, 7]\n",
        "\n",
        "# Список вегетационных индексов\n",
        "vegetation_indices = ['BWDRVI', 'CIG', 'CVI', 'DSI', 'DSWI1', 'DVI', 'DVIplus', 'EVI2', 'FCVI', 'GARI', 'GBNDVI', 'GCC', 'GDVI', 'GEMI', 'GLI',\n",
        "                      'GNDVI', 'GOSAVI', 'GRNDVI', 'GRVI', 'GSAVI', 'GVMI', 'IAVI', 'IKAW', 'IPVI', 'MCARI2', 'MGRVI', 'MNDVI',\n",
        "                      'MNLI', 'MRBVI', 'MSAVI', 'MSI', 'MSR', 'MTVI2', 'NDDI', 'NDGI', 'NDII', 'NDMI', 'NDPI', 'NDVI', 'NDYI', 'NGRDI',\n",
        "                      'NIRv', 'NIRvH2', 'NLI', 'NMDI', 'NRFIg', 'NRFIr', 'NormG', 'NormNIR', 'NormR', 'OCVI', 'OSAVI', 'RCC', 'RDVI', 'RGBVI', 'RGRI',\n",
        "                      'RI', 'SARVI', 'SAVI', 'SEVI', 'SI', 'SIPI', 'SR', 'TDVI', 'TGI', 'TSAVI', 'TVI', 'TriVI', 'VARI', 'VIG', 'WDRVI', 'WDVI']\n",
        "\n",
        "# Экспорт значений для каждого класса\n",
        "for class_id in classes:\n",
        "    # Фильтрация точек по текущему классу\n",
        "    class_points = points.filter(ee.Filter.eq('b1', class_id))\n",
        "\n",
        "    # Выборка значений вегетационных индексов в точках\n",
        "    sampled_data = l89_Vi_mask.sampleRegions(**{\n",
        "        'collection': class_points,\n",
        "        'properties': ['b1'],\n",
        "        'scale': 30,\n",
        "        'geometries': True,\n",
        "        'tileScale':16\n",
        "    })\n",
        "\n",
        "    # Экспорт данных на Google Drive\n",
        "    task = ee.batch.Export.table.toDrive(**{\n",
        "        'collection': sampled_data,\n",
        "        'description': f'vegetation_metrics_class_{class_id}',\n",
        "        'fileFormat': 'CSV',\n",
        "        'folder': 'Carbon'  # Укажите имя папки на Google Drive\n",
        "    })\n",
        "    task.start()\n",
        "    print(f'Task for class {class_id} started.')"
      ]
    },
    {
      "cell_type": "code",
      "execution_count": null,
      "id": "Jk666ORo_5ES",
      "metadata": {
        "id": "Jk666ORo_5ES"
      },
      "outputs": [],
      "source": [
        "# Экспорт на Google Drive\n",
        "task = ee.batch.Export.table.toDrive(**{\n",
        "    'collection': points,\n",
        "    'description': 'points',\n",
        "    'fileFormat': 'CSV',\n",
        "    'folder': 'Carbon'  # Укажите имя папки на Google Drive\n",
        "})\n",
        "task.start()"
      ]
    }
  ],
  "metadata": {
    "colab": {
      "provenance": [],
      "include_colab_link": true
    },
    "kernelspec": {
      "display_name": "Python 3 (ipykernel)",
      "language": "python",
      "name": "python3"
    },
    "language_info": {
      "codemirror_mode": {
        "name": "ipython",
        "version": 3
      },
      "file_extension": ".py",
      "mimetype": "text/x-python",
      "name": "python",
      "nbconvert_exporter": "python",
      "pygments_lexer": "ipython3",
      "version": "3.9.18"
    }
  },
  "nbformat": 4,
  "nbformat_minor": 5
}